{
 "cells": [
  {
   "cell_type": "code",
   "execution_count": null,
   "id": "4a1bccba",
   "metadata": {},
   "outputs": [],
   "source": [
    "print(\"Mir Hassan\")"
   ]
  },
  {
   "cell_type": "code",
   "execution_count": null,
   "id": "c7b5d5e7",
   "metadata": {},
   "outputs": [],
   "source": [
    "print('Twinkle, Twinkle little star,\\n\\t How I wonder what you are!\\n\\t\\tUp above the world so high,\\n\\t\\tLike a diamond in the sky.\\nTwinkle, twinkle, little star,\\n\\tHow i wonder what you are')"
   ]
  },
  {
   "cell_type": "code",
   "execution_count": null,
   "id": "ffc0c5da",
   "metadata": {},
   "outputs": [],
   "source": [
    "m=int(input(\"Enter Number: \"))\n",
    "n=17\n",
    "out=int(m)\n",
    "if m>n:\n",
    "    print(\"Differet between Numbers is: \",out)\n",
    "    print(\"Differet between Numbers is: \",out)\n",
    "else:\n",
    "    print(\"Differet between Numbers is: \",out)"
   ]
  },
  {
   "cell_type": "code",
   "execution_count": null,
   "id": "5882b747",
   "metadata": {},
   "outputs": [],
   "source": [
    "z=int(input(\"Enter Number: \"))\n",
    "if z%2==0:\n",
    "    print('Even')\n",
    "else:\n",
    "    print('Odd')"
   ]
  },
  {
   "cell_type": "code",
   "execution_count": null,
   "id": "2b047880",
   "metadata": {},
   "outputs": [],
   "source": [
    "nbr=[1,2,4,5,6,4,6,3]\n",
    "k=nbr.count(4)\n",
    "print(k)"
   ]
  },
  {
   "cell_type": "code",
   "execution_count": null,
   "id": "8a9802ce",
   "metadata": {},
   "outputs": [],
   "source": [
    "letter=input(\"Enter Number: \")\n",
    "if letter=='a'or'e'or'i'or'o'or'u':\n",
    "    print(\"Vowel\")\n",
    "else:\n",
    "    print(\"Consonant\")"
   ]
  },
  {
   "cell_type": "code",
   "execution_count": null,
   "id": "86813963",
   "metadata": {},
   "outputs": [],
   "source": [
    "mnt=int(input(\"Enter Number: \"))\n",
    "mntS=mmnt*60\n",
    "print(mntS)"
   ]
  },
  {
   "cell_type": "code",
   "execution_count": null,
   "id": "75e3986c",
   "metadata": {},
   "outputs": [],
   "source": [
    "n= int(input(\"Enter Number: \"))\n",
    "f= False\n",
    "if n == 1:\n",
    "    print(n, \"not prime\")\n",
    "elif n > 1:\n",
    "    for i in range(2, n):\n",
    "        if (n % i) == 0:\n",
    "            f = True\n",
    "            break\n",
    "    if f:\n",
    "        print(n, \"not prime\")\n",
    "    else:\n",
    "        print(n, \"prime\")"
   ]
  },
  {
   "cell_type": "code",
   "execution_count": null,
   "id": "9641f977",
   "metadata": {},
   "outputs": [],
   "source": [
    "lst=[100, 2000, 2000, 2000]\n",
    "sum(lst)"
   ]
  },
  {
   "cell_type": "code",
   "execution_count": null,
   "id": "2e0596f1",
   "metadata": {},
   "outputs": [],
   "source": [
    "print(lst[0]*lst[1]*lst[2]*lst[3])"
   ]
  },
  {
   "cell_type": "code",
   "execution_count": null,
   "id": "a04e99be",
   "metadata": {},
   "outputs": [],
   "source": [
    "max(lst)"
   ]
  },
  {
   "cell_type": "code",
   "execution_count": null,
   "id": "b1418eb0",
   "metadata": {},
   "outputs": [],
   "source": [
    "min(lst)"
   ]
  }
 ],
 "metadata": {
  "kernelspec": {
   "display_name": "Python 3 (ipykernel)",
   "language": "python",
   "name": "python3"
  },
  "language_info": {
   "codemirror_mode": {
    "name": "ipython",
    "version": 3
   },
   "file_extension": ".py",
   "mimetype": "text/x-python",
   "name": "python",
   "nbconvert_exporter": "python",
   "pygments_lexer": "ipython3",
   "version": "3.11.3"
  }
 },
 "nbformat": 4,
 "nbformat_minor": 5
}
