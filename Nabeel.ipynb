{
  "nbformat": 4,
  "nbformat_minor": 0,
  "metadata": {
    "colab": {
      "provenance": []
    },
    "kernelspec": {
      "name": "python3",
      "display_name": "Python 3"
    },
    "language_info": {
      "name": "python"
    }
  },
  "cells": [
    {
      "cell_type": "code",
      "execution_count": 10,
      "metadata": {
        "colab": {
          "base_uri": "https://localhost:8080/"
        },
        "id": "0fK6vOGMx255",
        "outputId": "fe25221d-7695-4b9d-ffa9-aed9447dc131"
      },
      "outputs": [
        {
          "output_type": "stream",
          "name": "stdout",
          "text": [
            "Twinkle, twinkle, little star,\n",
            "How I wonder what you are! Up above the world so high,\n",
            "Like a diamond in the sky. Twinkle, twinkle, little star,\n",
            "How I wonder what you are\n"
          ]
        }
      ],
      "source": [
        "print(\"Twinkle, twinkle, little star,\")\n",
        "print(\"How I wonder what you are! Up above the world so high,\")\n",
        "print(\"Like a diamond in the sky. Twinkle, twinkle, little star,\")\n",
        "print(\"How I wonder what you are\")"
      ]
    },
    {
      "cell_type": "code",
      "source": [
        "def calculate_difference(num):\n",
        "    if num > 17:\n",
        "        return 2 * abs(num - 17)\n",
        "    else:\n",
        "        return 17 - num\n",
        "print(calculate_difference(20))"
      ],
      "metadata": {
        "colab": {
          "base_uri": "https://localhost:8080/"
        },
        "id": "UV9gJjQQx3mw",
        "outputId": "16ecfd72-7198-47b3-c82f-52f672796677"
      },
      "execution_count": 11,
      "outputs": [
        {
          "output_type": "stream",
          "name": "stdout",
          "text": [
            "6\n"
          ]
        }
      ]
    },
    {
      "cell_type": "code",
      "source": [
        "def check_even_odd(num):\n",
        "    if num % 2 == 0:\n",
        "        return \"Even\"\n",
        "    else:\n",
        "        return \"Odd\"\n",
        "print(check_even_odd(7))"
      ],
      "metadata": {
        "colab": {
          "base_uri": "https://localhost:8080/"
        },
        "id": "tTrHULtex5HH",
        "outputId": "7348eebb-f440-4827-ad66-6d8bc12b079d"
      },
      "execution_count": 12,
      "outputs": [
        {
          "output_type": "stream",
          "name": "stdout",
          "text": [
            "Odd\n"
          ]
        }
      ]
    },
    {
      "cell_type": "code",
      "source": [
        "def count_number_four(lst):\n",
        "    return lst.count(4)\n",
        "\n",
        "numbers = [1, 4, 2, 3, 4, 5, 4]\n",
        "print(count_number_four(numbers))"
      ],
      "metadata": {
        "colab": {
          "base_uri": "https://localhost:8080/"
        },
        "id": "uyHvBudlx-Y3",
        "outputId": "641fe64b-d4db-44cb-e61f-6d79c5e2374e"
      },
      "execution_count": 13,
      "outputs": [
        {
          "output_type": "stream",
          "name": "stdout",
          "text": [
            "3\n"
          ]
        }
      ]
    },
    {
      "cell_type": "code",
      "source": [
        "def check_vowel(letter):\n",
        "    vowels = ['a', 'e', 'i', 'o', 'u']\n",
        "    if letter.lower() in vowels:\n",
        "        return True\n",
        "    else:\n",
        "        return False\n",
        "\n",
        "print(check_vowel('A'))  # Example usage\n"
      ],
      "metadata": {
        "colab": {
          "base_uri": "https://localhost:8080/"
        },
        "id": "7TYU0PoTyCeP",
        "outputId": "b629e1a7-6a90-4869-db47-9be13bd00083"
      },
      "execution_count": 14,
      "outputs": [
        {
          "output_type": "stream",
          "name": "stdout",
          "text": [
            "True\n"
          ]
        }
      ]
    },
    {
      "cell_type": "code",
      "source": [
        "def convert_minutes_to_seconds(minutes):\n",
        "    return minutes * 60\n",
        "\n",
        "print(convert_minutes_to_seconds(5))"
      ],
      "metadata": {
        "colab": {
          "base_uri": "https://localhost:8080/"
        },
        "id": "mO1GLEQ0yEaP",
        "outputId": "4c60e1fb-7f69-464f-8c2c-b3c4768e93c4"
      },
      "execution_count": 15,
      "outputs": [
        {
          "output_type": "stream",
          "name": "stdout",
          "text": [
            "300\n"
          ]
        }
      ]
    },
    {
      "cell_type": "code",
      "source": [
        "def is_prime(num):\n",
        "    if num < 2:\n",
        "        return False\n",
        "    for i in range(2, int(num**0.5) + 1):\n",
        "        if num % i == 0:\n",
        "            return False\n",
        "    return True\n",
        "\n",
        "def test_prime_numbers():\n",
        "    primes = [2, 7]\n",
        "    non_primes = [1, 4]\n",
        "\n",
        "    for num in primes:\n",
        "        if not is_prime(num):\n",
        "            return False\n",
        "\n",
        "    for num in non_primes:\n",
        "        if is_prime(num):\n",
        "            return False\n",
        "\n",
        "    return True\n",
        "\n",
        "if test_prime_numbers():\n",
        "    print(\"All tests passed - Numbers are prime!\")\n",
        "else:\n",
        "    print(\"Some tests failed - Numbers are not prime.\")\n"
      ],
      "metadata": {
        "colab": {
          "base_uri": "https://localhost:8080/"
        },
        "id": "frRj9H0VyF6X",
        "outputId": "7ded5d75-5ee2-43b1-c8d6-6701a36ee266"
      },
      "execution_count": 16,
      "outputs": [
        {
          "output_type": "stream",
          "name": "stdout",
          "text": [
            "All tests passed - Numbers are prime!\n"
          ]
        }
      ]
    },
    {
      "cell_type": "code",
      "source": [
        "def sum_list_items(lst):\n",
        "    return sum(lst)\n",
        "numbers = [1, 2, 3, 4, 5]\n",
        "print(sum_list_items(numbers))"
      ],
      "metadata": {
        "colab": {
          "base_uri": "https://localhost:8080/"
        },
        "id": "q-XG3g2tyIh4",
        "outputId": "dc70529f-a8c2-45f9-9005-fa8f9808e3ed"
      },
      "execution_count": 17,
      "outputs": [
        {
          "output_type": "stream",
          "name": "stdout",
          "text": [
            "15\n"
          ]
        }
      ]
    },
    {
      "cell_type": "code",
      "source": [
        "def multiply_list_items(lst):\n",
        "    result = 1\n",
        "    for num in lst:\n",
        "        result *= num\n",
        "    return result\n",
        "\n",
        "numbers = [1, 2, 3, 4, 5]\n",
        "print(multiply_list_items(numbers))"
      ],
      "metadata": {
        "colab": {
          "base_uri": "https://localhost:8080/"
        },
        "id": "Obc9qfEKyJ03",
        "outputId": "19d0a90a-e6b4-4eeb-b4be-9e4ea02ce3ba"
      },
      "execution_count": 18,
      "outputs": [
        {
          "output_type": "stream",
          "name": "stdout",
          "text": [
            "120\n"
          ]
        }
      ]
    },
    {
      "cell_type": "code",
      "source": [
        "def get_largest_number(lst):\n",
        "    return max(lst)\n",
        "\n",
        "numbers = [1, 7, 3, 9, 5]\n",
        "print(get_largest_number(numbers))"
      ],
      "metadata": {
        "colab": {
          "base_uri": "https://localhost:8080/"
        },
        "id": "ED89nfWqyP3X",
        "outputId": "9ff4b104-ea4c-456f-fac8-a821291161b5"
      },
      "execution_count": 19,
      "outputs": [
        {
          "output_type": "stream",
          "name": "stdout",
          "text": [
            "9\n"
          ]
        }
      ]
    },
    {
      "cell_type": "code",
      "source": [
        "def get_smallest_number(lst):\n",
        "    return min(lst)\n",
        "\n",
        "numbers = [1, 7, 3, 9, 5]\n",
        "print(get_smallest_number(numbers))"
      ],
      "metadata": {
        "colab": {
          "base_uri": "https://localhost:8080/"
        },
        "id": "KfxzOm3FyRcO",
        "outputId": "c8a6b34d-3c3b-429b-b9f8-987fdbd465d3"
      },
      "execution_count": 20,
      "outputs": [
        {
          "output_type": "stream",
          "name": "stdout",
          "text": [
            "1\n"
          ]
        }
      ]
    }
  ]
}